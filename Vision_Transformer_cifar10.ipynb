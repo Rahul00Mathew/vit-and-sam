{
  "nbformat": 4,
  "nbformat_minor": 0,
  "metadata": {
    "colab": {
      "provenance": [],
      "machine_shape": "hm",
      "gpuType": "L4"
    },
    "kernelspec": {
      "name": "python3",
      "display_name": "Python 3"
    },
    "language_info": {
      "name": "python"
    },
    "accelerator": "GPU"
  },
  "cells": [
    {
      "cell_type": "code",
      "source": [
        "pip install pytorch-lightning"
      ],
      "metadata": {
        "colab": {
          "base_uri": "https://localhost:8080/"
        },
        "id": "g_iOHQwEIdz3",
        "outputId": "585250b4-cdf6-469a-fd82-e53d70b48a60"
      },
      "execution_count": 1,
      "outputs": [
        {
          "output_type": "stream",
          "name": "stdout",
          "text": [
            "Requirement already satisfied: pytorch-lightning in /usr/local/lib/python3.12/dist-packages (2.5.5)\n",
            "Requirement already satisfied: torch>=2.1.0 in /usr/local/lib/python3.12/dist-packages (from pytorch-lightning) (2.8.0+cu126)\n",
            "Requirement already satisfied: tqdm>=4.57.0 in /usr/local/lib/python3.12/dist-packages (from pytorch-lightning) (4.67.1)\n",
            "Requirement already satisfied: PyYAML>5.4 in /usr/local/lib/python3.12/dist-packages (from pytorch-lightning) (6.0.3)\n",
            "Requirement already satisfied: fsspec>=2022.5.0 in /usr/local/lib/python3.12/dist-packages (from fsspec[http]>=2022.5.0->pytorch-lightning) (2025.3.0)\n",
            "Requirement already satisfied: torchmetrics>0.7.0 in /usr/local/lib/python3.12/dist-packages (from pytorch-lightning) (1.8.2)\n",
            "Requirement already satisfied: packaging>=20.0 in /usr/local/lib/python3.12/dist-packages (from pytorch-lightning) (25.0)\n",
            "Requirement already satisfied: typing-extensions>4.5.0 in /usr/local/lib/python3.12/dist-packages (from pytorch-lightning) (4.15.0)\n",
            "Requirement already satisfied: lightning-utilities>=0.10.0 in /usr/local/lib/python3.12/dist-packages (from pytorch-lightning) (0.15.2)\n",
            "Requirement already satisfied: aiohttp!=4.0.0a0,!=4.0.0a1 in /usr/local/lib/python3.12/dist-packages (from fsspec[http]>=2022.5.0->pytorch-lightning) (3.12.15)\n",
            "Requirement already satisfied: setuptools in /usr/local/lib/python3.12/dist-packages (from lightning-utilities>=0.10.0->pytorch-lightning) (75.2.0)\n",
            "Requirement already satisfied: filelock in /usr/local/lib/python3.12/dist-packages (from torch>=2.1.0->pytorch-lightning) (3.19.1)\n",
            "Requirement already satisfied: sympy>=1.13.3 in /usr/local/lib/python3.12/dist-packages (from torch>=2.1.0->pytorch-lightning) (1.13.3)\n",
            "Requirement already satisfied: networkx in /usr/local/lib/python3.12/dist-packages (from torch>=2.1.0->pytorch-lightning) (3.5)\n",
            "Requirement already satisfied: jinja2 in /usr/local/lib/python3.12/dist-packages (from torch>=2.1.0->pytorch-lightning) (3.1.6)\n",
            "Requirement already satisfied: nvidia-cuda-nvrtc-cu12==12.6.77 in /usr/local/lib/python3.12/dist-packages (from torch>=2.1.0->pytorch-lightning) (12.6.77)\n",
            "Requirement already satisfied: nvidia-cuda-runtime-cu12==12.6.77 in /usr/local/lib/python3.12/dist-packages (from torch>=2.1.0->pytorch-lightning) (12.6.77)\n",
            "Requirement already satisfied: nvidia-cuda-cupti-cu12==12.6.80 in /usr/local/lib/python3.12/dist-packages (from torch>=2.1.0->pytorch-lightning) (12.6.80)\n",
            "Requirement already satisfied: nvidia-cudnn-cu12==9.10.2.21 in /usr/local/lib/python3.12/dist-packages (from torch>=2.1.0->pytorch-lightning) (9.10.2.21)\n",
            "Requirement already satisfied: nvidia-cublas-cu12==12.6.4.1 in /usr/local/lib/python3.12/dist-packages (from torch>=2.1.0->pytorch-lightning) (12.6.4.1)\n",
            "Requirement already satisfied: nvidia-cufft-cu12==11.3.0.4 in /usr/local/lib/python3.12/dist-packages (from torch>=2.1.0->pytorch-lightning) (11.3.0.4)\n",
            "Requirement already satisfied: nvidia-curand-cu12==10.3.7.77 in /usr/local/lib/python3.12/dist-packages (from torch>=2.1.0->pytorch-lightning) (10.3.7.77)\n",
            "Requirement already satisfied: nvidia-cusolver-cu12==11.7.1.2 in /usr/local/lib/python3.12/dist-packages (from torch>=2.1.0->pytorch-lightning) (11.7.1.2)\n",
            "Requirement already satisfied: nvidia-cusparse-cu12==12.5.4.2 in /usr/local/lib/python3.12/dist-packages (from torch>=2.1.0->pytorch-lightning) (12.5.4.2)\n",
            "Requirement already satisfied: nvidia-cusparselt-cu12==0.7.1 in /usr/local/lib/python3.12/dist-packages (from torch>=2.1.0->pytorch-lightning) (0.7.1)\n",
            "Requirement already satisfied: nvidia-nccl-cu12==2.27.3 in /usr/local/lib/python3.12/dist-packages (from torch>=2.1.0->pytorch-lightning) (2.27.3)\n",
            "Requirement already satisfied: nvidia-nvtx-cu12==12.6.77 in /usr/local/lib/python3.12/dist-packages (from torch>=2.1.0->pytorch-lightning) (12.6.77)\n",
            "Requirement already satisfied: nvidia-nvjitlink-cu12==12.6.85 in /usr/local/lib/python3.12/dist-packages (from torch>=2.1.0->pytorch-lightning) (12.6.85)\n",
            "Requirement already satisfied: nvidia-cufile-cu12==1.11.1.6 in /usr/local/lib/python3.12/dist-packages (from torch>=2.1.0->pytorch-lightning) (1.11.1.6)\n",
            "Requirement already satisfied: triton==3.4.0 in /usr/local/lib/python3.12/dist-packages (from torch>=2.1.0->pytorch-lightning) (3.4.0)\n",
            "Requirement already satisfied: numpy>1.20.0 in /usr/local/lib/python3.12/dist-packages (from torchmetrics>0.7.0->pytorch-lightning) (2.0.2)\n",
            "Requirement already satisfied: aiohappyeyeballs>=2.5.0 in /usr/local/lib/python3.12/dist-packages (from aiohttp!=4.0.0a0,!=4.0.0a1->fsspec[http]>=2022.5.0->pytorch-lightning) (2.6.1)\n",
            "Requirement already satisfied: aiosignal>=1.4.0 in /usr/local/lib/python3.12/dist-packages (from aiohttp!=4.0.0a0,!=4.0.0a1->fsspec[http]>=2022.5.0->pytorch-lightning) (1.4.0)\n",
            "Requirement already satisfied: attrs>=17.3.0 in /usr/local/lib/python3.12/dist-packages (from aiohttp!=4.0.0a0,!=4.0.0a1->fsspec[http]>=2022.5.0->pytorch-lightning) (25.3.0)\n",
            "Requirement already satisfied: frozenlist>=1.1.1 in /usr/local/lib/python3.12/dist-packages (from aiohttp!=4.0.0a0,!=4.0.0a1->fsspec[http]>=2022.5.0->pytorch-lightning) (1.7.0)\n",
            "Requirement already satisfied: multidict<7.0,>=4.5 in /usr/local/lib/python3.12/dist-packages (from aiohttp!=4.0.0a0,!=4.0.0a1->fsspec[http]>=2022.5.0->pytorch-lightning) (6.6.4)\n",
            "Requirement already satisfied: propcache>=0.2.0 in /usr/local/lib/python3.12/dist-packages (from aiohttp!=4.0.0a0,!=4.0.0a1->fsspec[http]>=2022.5.0->pytorch-lightning) (0.3.2)\n",
            "Requirement already satisfied: yarl<2.0,>=1.17.0 in /usr/local/lib/python3.12/dist-packages (from aiohttp!=4.0.0a0,!=4.0.0a1->fsspec[http]>=2022.5.0->pytorch-lightning) (1.20.1)\n",
            "Requirement already satisfied: mpmath<1.4,>=1.1.0 in /usr/local/lib/python3.12/dist-packages (from sympy>=1.13.3->torch>=2.1.0->pytorch-lightning) (1.3.0)\n",
            "Requirement already satisfied: MarkupSafe>=2.0 in /usr/local/lib/python3.12/dist-packages (from jinja2->torch>=2.1.0->pytorch-lightning) (3.0.3)\n",
            "Requirement already satisfied: idna>=2.0 in /usr/local/lib/python3.12/dist-packages (from yarl<2.0,>=1.17.0->aiohttp!=4.0.0a0,!=4.0.0a1->fsspec[http]>=2022.5.0->pytorch-lightning) (3.10)\n"
          ]
        }
      ]
    },
    {
      "cell_type": "code",
      "execution_count": 2,
      "metadata": {
        "id": "UcwVDShHH3Om"
      },
      "outputs": [],
      "source": [
        "import torch\n",
        "import torchvision\n",
        "import torchvision.transforms as transforms\n",
        "from torch.utils.data import DataLoader\n",
        "import torch.nn as nn\n",
        "import torch.nn.functional as F\n",
        "import torch.optim as optim\n",
        "import pytorch_lightning as pl\n",
        "from torchmetrics.classification import MulticlassAccuracy\n",
        "import matplotlib.pyplot as plt\n",
        "import numpy as np\n",
        "import math\n",
        "import os"
      ]
    },
    {
      "cell_type": "code",
      "source": [
        "data_dir = './data'\n",
        "\n",
        "mean = (0.4914, 0.4822, 0.4465)\n",
        "std  = (0.2470, 0.2435, 0.2616)\n",
        "\n",
        "transform = transforms.Compose([\n",
        "    transforms.RandomHorizontalFlip(),\n",
        "    transforms.ToTensor(),\n",
        "    transforms.Normalize(mean, std),\n",
        "])\n",
        "\n",
        "train_set = torchvision.datasets.CIFAR10(root=data_dir, train=True,\n",
        "                                        download=True, transform=transform)\n",
        "test_set  = torchvision.datasets.CIFAR10(root=data_dir, train=False,\n",
        "                                        download=True, transform=transform)"
      ],
      "metadata": {
        "id": "sn3l6COdh-mj"
      },
      "execution_count": 3,
      "outputs": []
    },
    {
      "cell_type": "code",
      "source": [
        "batch_size = 64\n",
        "\n",
        "train_loader = DataLoader(train_set, batch_size=batch_size, shuffle=True)\n",
        "test_loader  = DataLoader(test_set,  batch_size=batch_size, shuffle=False)"
      ],
      "metadata": {
        "id": "TzpjavpBjKOr"
      },
      "execution_count": 4,
      "outputs": []
    },
    {
      "cell_type": "code",
      "source": [
        "len(train_set), len(test_set)"
      ],
      "metadata": {
        "colab": {
          "base_uri": "https://localhost:8080/"
        },
        "id": "zNfCJtoVjfYa",
        "outputId": "72db9fab-ea02-4607-c2e3-6b4a285f9682"
      },
      "execution_count": 5,
      "outputs": [
        {
          "output_type": "execute_result",
          "data": {
            "text/plain": [
              "(50000, 10000)"
            ]
          },
          "metadata": {},
          "execution_count": 5
        }
      ]
    },
    {
      "cell_type": "code",
      "source": [
        "train_set[100][0].shape"
      ],
      "metadata": {
        "colab": {
          "base_uri": "https://localhost:8080/"
        },
        "id": "ZmaYsomkjhxq",
        "outputId": "74bca30c-4124-4b8a-9aa3-68e4c190bf68"
      },
      "execution_count": 6,
      "outputs": [
        {
          "output_type": "execute_result",
          "data": {
            "text/plain": [
              "torch.Size([3, 32, 32])"
            ]
          },
          "metadata": {},
          "execution_count": 6
        }
      ]
    },
    {
      "cell_type": "code",
      "source": [
        "images, labels = next(iter(train_loader))"
      ],
      "metadata": {
        "id": "BTRtkHA6Hqpx"
      },
      "execution_count": 7,
      "outputs": []
    },
    {
      "cell_type": "code",
      "source": [
        "class Patchify(nn.Module):\n",
        "    def __init__(self, image_size, num_channels, patch_size, stride, embed_dim):\n",
        "        super().__init__()\n",
        "\n",
        "        embed_dim = embed_dim\n",
        "\n",
        "        assert(image_size % patch_size == 0)\n",
        "\n",
        "        self.num_patches1D = image_size // patch_size\n",
        "\n",
        "        self.conv = nn.Conv2d(in_channels=num_channels,\n",
        "                         out_channels=embed_dim,\n",
        "                         kernel_size=patch_size,\n",
        "                         stride=stride)\n",
        "\n",
        "    def forward(self, img):\n",
        "        patched = self.conv(img)\n",
        "\n",
        "        y = patched.flatten(2).transpose(1, 2)\n",
        "\n",
        "        return y"
      ],
      "metadata": {
        "id": "ZN0sXjo6EMpF"
      },
      "execution_count": 8,
      "outputs": []
    },
    {
      "cell_type": "code",
      "source": [
        "class SelfAttention(nn.Module):\n",
        "    def __init__(self, embed_dim, n_heads):\n",
        "        super().__init__()\n",
        "\n",
        "        self.embed_dim = embed_dim\n",
        "        self.c_attn = nn.Linear(self.embed_dim, 3*self.embed_dim, bias=False)\n",
        "        self.o_proj = nn.Linear(self.embed_dim, self.embed_dim, bias=False)\n",
        "        self.n_heads = n_heads\n",
        "\n",
        "        assert(embed_dim % n_heads == 0)\n",
        "\n",
        "        self.head_dim = embed_dim // n_heads\n",
        "\n",
        "    def forward(self, x):\n",
        "        B, T, C = x.size()\n",
        "\n",
        "        qkv = self.c_attn(x)\n",
        "\n",
        "        q, k, v = torch.tensor_split(qkv, 3, dim=2)\n",
        "\n",
        "        q = q.reshape(B, T, self.n_heads, self.head_dim).transpose(1, 2)\n",
        "        k = k.reshape(B, T, self.n_heads, self.head_dim).transpose(1, 2)\n",
        "        v = v.reshape(B, T, self.n_heads, self.head_dim).transpose(1, 2)\n",
        "\n",
        "\n",
        "        attn = q @ k.transpose(-1, -2)\n",
        "        attn = F.softmax(attn, dim=-1) / math.sqrt(k.shape[-1])\n",
        "        attn = attn @ v\n",
        "        attn = attn.transpose(1, 2).contiguous().view(B, T, C)\n",
        "\n",
        "        #attn = F.scaled_dot_product_attention(q, k, v)\n",
        "\n",
        "        y = self.o_proj(attn)\n",
        "\n",
        "        return y"
      ],
      "metadata": {
        "id": "UGA29yPrEf6l"
      },
      "execution_count": 9,
      "outputs": []
    },
    {
      "cell_type": "code",
      "source": [
        "class MLP(nn.Module):\n",
        "    def __init__(self, embed_dim):\n",
        "        super().__init__()\n",
        "\n",
        "        self.lin1 = nn.Linear(embed_dim, 4 * embed_dim)\n",
        "        self.relu = nn.ReLU()\n",
        "        self.lin2 = nn.Linear(4 * embed_dim, embed_dim)\n",
        "\n",
        "    def forward(self, x):\n",
        "        out = self.lin1(x)\n",
        "        out = self.lin2(self.relu(out))\n",
        "\n",
        "        return out"
      ],
      "metadata": {
        "id": "E24Y_bGqEjHV"
      },
      "execution_count": 10,
      "outputs": []
    },
    {
      "cell_type": "code",
      "source": [
        "class Block(nn.Module):\n",
        "    def __init__(self, embed_dim, n_heads):\n",
        "        super().__init__()\n",
        "\n",
        "        # Layer Norm 1\n",
        "        self.norm1 = nn.LayerNorm(embed_dim)\n",
        "\n",
        "        # Multi-Head Self Attention\n",
        "        self.attention = SelfAttention(embed_dim, n_heads)\n",
        "\n",
        "        # Layer Norm 2\n",
        "        self.norm2 = nn.LayerNorm(embed_dim)\n",
        "\n",
        "        # Feed Forward Layer\n",
        "        self.mlp = MLP(embed_dim)\n",
        "\n",
        "    def forward(self, x):\n",
        "        # Multi-Head Self Attention with residual connection\n",
        "        out = self.norm1(x)\n",
        "        out1 = self.attention(out) + x\n",
        "\n",
        "        # Feed Forward layer with residual connection\n",
        "        out2 = self.norm2(out1)\n",
        "        out2 = self.mlp(out2) + out1\n",
        "\n",
        "        return out2"
      ],
      "metadata": {
        "id": "rAEM7gvtEk9n"
      },
      "execution_count": 11,
      "outputs": []
    },
    {
      "cell_type": "code",
      "source": [
        "class Vit(nn.Module):\n",
        "    def __init__(self, image_size, num_channels, patch_size, stride, embed_dim, n_heads, n_blocks, n_classes):\n",
        "        super().__init__()\n",
        "\n",
        "        self.image_size = image_size\n",
        "\n",
        "        # Patch Size, for non-overlapping patches, patch_size = stride\n",
        "        self.patch_size = patch_size\n",
        "\n",
        "        # Number of patches for overlapping and non-overlapping patches\n",
        "        self.num_patches = (((image_size - patch_size) // stride) + 1) ** 2\n",
        "\n",
        "        # Embedding dimension for each image token\n",
        "        self.embed_dim = embed_dim\n",
        "\n",
        "        # Number of transformer encoder block\n",
        "        self.n_blocks = n_blocks\n",
        "\n",
        "        # Patch Embedding\n",
        "        self.patchifier = Patchify(image_size, num_channels, patch_size, stride, embed_dim)\n",
        "\n",
        "        # cls token\n",
        "        self.cls_token = nn.Parameter(torch.zeros(1, 1, embed_dim))\n",
        "\n",
        "        # Learnable position embedding with cls token\n",
        "        self.pos_emb = nn.Parameter(torch.randn(1, self.num_patches + 1, embed_dim))\n",
        "\n",
        "        # Transformer blocks\n",
        "        self.blocks = nn.ModuleList([Block(embed_dim, n_heads) for _ in range(n_blocks)])\n",
        "\n",
        "        # MLP head for classification\n",
        "        self.mlp_head = nn.Linear(embed_dim, n_classes)\n",
        "\n",
        "    def forward(self, imgs):\n",
        "        # Get Patch Embeddings and attach cls token at the beginning\n",
        "        out = self.patchifier(imgs)\n",
        "        out = torch.concat([self.cls_token.expand([imgs.shape[0], -1, -1]), out], dim=1)\n",
        "\n",
        "        # Add position embedding\n",
        "        out += self.pos_emb\n",
        "\n",
        "        # Pass it through the encoder blocks\n",
        "        for block in self.blocks:\n",
        "            out = block(out)\n",
        "\n",
        "        # Get the cls token for classification\n",
        "        out = self.mlp_head(out[:, 0, :])\n",
        "\n",
        "        return out\n"
      ],
      "metadata": {
        "id": "0tunNg1UEnRO"
      },
      "execution_count": 12,
      "outputs": []
    },
    {
      "cell_type": "code",
      "source": [
        "image_size = 32\n",
        "num_channels = 3\n",
        "patch_size = 4\n",
        "stride = 2  # stride = patch_size for non-overlapping patches\n",
        "n_heads = 4\n",
        "n_blocks = 16\n",
        "n_classes = 10"
      ],
      "metadata": {
        "id": "I5okB1lmjQTv"
      },
      "execution_count": null,
      "outputs": []
    },
    {
      "cell_type": "code",
      "source": [
        "model = Vit(image_size=32,\n",
        "            num_channels=3,\n",
        "            patch_size=4,\n",
        "            stride=2,\n",
        "            embed_dim=64,\n",
        "            n_heads=4,\n",
        "            n_blocks=16,\n",
        "            n_classes=10)"
      ],
      "metadata": {
        "id": "e5qoUthGEyRB"
      },
      "execution_count": 13,
      "outputs": []
    },
    {
      "cell_type": "code",
      "source": [
        "images.shape"
      ],
      "metadata": {
        "colab": {
          "base_uri": "https://localhost:8080/"
        },
        "id": "XNpLvfG-FMi0",
        "outputId": "b547d8bb-eea8-44ed-8c70-991d9467eead"
      },
      "execution_count": 14,
      "outputs": [
        {
          "output_type": "execute_result",
          "data": {
            "text/plain": [
              "torch.Size([64, 3, 32, 32])"
            ]
          },
          "metadata": {},
          "execution_count": 14
        }
      ]
    },
    {
      "cell_type": "code",
      "source": [
        "y = model(images)\n",
        "\n",
        "y.shape"
      ],
      "metadata": {
        "colab": {
          "base_uri": "https://localhost:8080/"
        },
        "id": "ggac5gKvFOBF",
        "outputId": "c181540f-50f9-494b-d216-da5d049920e8"
      },
      "execution_count": 15,
      "outputs": [
        {
          "output_type": "execute_result",
          "data": {
            "text/plain": [
              "torch.Size([64, 10])"
            ]
          },
          "metadata": {},
          "execution_count": 15
        }
      ]
    },
    {
      "cell_type": "code",
      "source": [
        "y.shape"
      ],
      "metadata": {
        "colab": {
          "base_uri": "https://localhost:8080/"
        },
        "id": "pGEKND_fFP7r",
        "outputId": "89c4b44e-2e4f-4bc8-e696-137150e2de6e"
      },
      "execution_count": 16,
      "outputs": [
        {
          "output_type": "execute_result",
          "data": {
            "text/plain": [
              "torch.Size([64, 10])"
            ]
          },
          "metadata": {},
          "execution_count": 16
        }
      ]
    },
    {
      "cell_type": "code",
      "source": [
        "total_params = sum(p.numel() for p in model.parameters())\n",
        "print(f\"Number of parameters: {total_params:,}\\n\")"
      ],
      "metadata": {
        "colab": {
          "base_uri": "https://localhost:8080/"
        },
        "id": "UbrIhQRlG_5z",
        "outputId": "dc6fcd65-adc2-4f36-b06a-11ac1068fc71"
      },
      "execution_count": 17,
      "outputs": [
        {
          "output_type": "stream",
          "name": "stdout",
          "text": [
            "Number of parameters: 813,962\n",
            "\n"
          ]
        }
      ]
    },
    {
      "cell_type": "code",
      "source": [
        "device = \"cuda\" if torch.cuda.is_available() else \"cpu\"\n",
        "model = model.to(device)"
      ],
      "metadata": {
        "id": "h4d437AZH6cL"
      },
      "execution_count": 18,
      "outputs": []
    },
    {
      "cell_type": "code",
      "source": [
        "criterion = nn.CrossEntropyLoss()\n",
        "optimizer = optim.Adam(model.parameters(), lr=1e-3)\n",
        "metric = MulticlassAccuracy(num_classes=10).to(device)"
      ],
      "metadata": {
        "id": "GAz_PJbpIQ2e"
      },
      "execution_count": 19,
      "outputs": []
    },
    {
      "cell_type": "code",
      "source": [
        "num_epochs = 25\n",
        "\n",
        "epoch_train_accuracies = []\n",
        "epoch_test_accuracies = []\n",
        "\n",
        "epoch_train_losses = []\n",
        "epoch_test_losses = []\n",
        "\n",
        "for epoch in range(num_epochs):\n",
        "    model.train()\n",
        "\n",
        "    train_losses = []\n",
        "    train_accuracies = []\n",
        "\n",
        "    for images, labels in train_loader:\n",
        "        images = images.to(device)\n",
        "        labels = labels.to(device)\n",
        "\n",
        "        optimizer.zero_grad()\n",
        "\n",
        "        with torch.autocast(device_type=device, dtype=torch.bfloat16):\n",
        "            outputs = model(images)\n",
        "\n",
        "        model_loss = criterion(outputs, labels)\n",
        "\n",
        "        loss = model_loss\n",
        "\n",
        "        loss.backward()\n",
        "\n",
        "        optimizer.step()\n",
        "\n",
        "        accuracy = metric(outputs, labels) * 100\n",
        "\n",
        "        train_losses.append(loss.item())\n",
        "        train_accuracies.append(accuracy)\n",
        "\n",
        "\n",
        "    model.eval()\n",
        "\n",
        "    test_losses = []\n",
        "    test_accuracies = []\n",
        "\n",
        "    for images, labels in test_loader:\n",
        "        images = images.to(device)\n",
        "        labels = labels.to(device)\n",
        "\n",
        "        with torch.no_grad():\n",
        "            outputs = model(images)           # [B, num_classes]\n",
        "        loss = criterion(outputs, labels)\n",
        "\n",
        "        accuracy = metric(outputs, labels) * 100\n",
        "\n",
        "        test_accuracies.append(accuracy)\n",
        "        test_losses.append(loss)\n",
        "\n",
        "    train_loss = torch.mean(torch.tensor(train_losses))\n",
        "    test_loss = torch.mean(torch.tensor(test_losses))\n",
        "\n",
        "    train_accuracy = torch.mean(torch.tensor(train_accuracies))\n",
        "    test_accuracy = torch.mean(torch.tensor(test_accuracies))\n",
        "\n",
        "    epoch_train_accuracies.append(train_accuracy)\n",
        "    epoch_test_accuracies.append(test_accuracy)\n",
        "\n",
        "    epoch_train_losses.append(train_loss)\n",
        "    epoch_test_losses.append(test_loss)\n",
        "\n",
        "    print(f\"Epoch [{epoch+1}/{num_epochs}]  |   Train Loss: {train_loss:.4f}    |   Train Accuracy = {train_accuracy:.2f} %   |   Test Loss = {test_loss:.4f}   |   Test Accuracy = {test_accuracy:.2f} %  \")"
      ],
      "metadata": {
        "colab": {
          "base_uri": "https://localhost:8080/"
        },
        "id": "1-em1n7eIBxC",
        "outputId": "13ffe90b-2b4a-47e1-c54b-20e271aca3cd"
      },
      "execution_count": 20,
      "outputs": [
        {
          "output_type": "stream",
          "name": "stdout",
          "text": [
            "Epoch [1/25]  |   Train Loss: 1.5916    |   Train Accuracy = 41.27 %   |   Test Loss = 1.3855   |   Test Accuracy = 48.16 %  \n",
            "Epoch [2/25]  |   Train Loss: 1.3017    |   Train Accuracy = 52.90 %   |   Test Loss = 1.2575   |   Test Accuracy = 54.13 %  \n",
            "Epoch [3/25]  |   Train Loss: 1.1855    |   Train Accuracy = 57.31 %   |   Test Loss = 1.1618   |   Test Accuracy = 57.99 %  \n",
            "Epoch [4/25]  |   Train Loss: 1.1017    |   Train Accuracy = 60.27 %   |   Test Loss = 1.0940   |   Test Accuracy = 60.02 %  \n",
            "Epoch [5/25]  |   Train Loss: 1.0395    |   Train Accuracy = 62.72 %   |   Test Loss = 1.1091   |   Test Accuracy = 60.07 %  \n",
            "Epoch [6/25]  |   Train Loss: 0.9769    |   Train Accuracy = 64.88 %   |   Test Loss = 1.0425   |   Test Accuracy = 62.72 %  \n",
            "Epoch [7/25]  |   Train Loss: 0.9211    |   Train Accuracy = 67.12 %   |   Test Loss = 1.0210   |   Test Accuracy = 62.97 %  \n",
            "Epoch [8/25]  |   Train Loss: 0.8752    |   Train Accuracy = 68.94 %   |   Test Loss = 0.9922   |   Test Accuracy = 64.53 %  \n",
            "Epoch [9/25]  |   Train Loss: 0.8263    |   Train Accuracy = 70.26 %   |   Test Loss = 0.9408   |   Test Accuracy = 66.10 %  \n",
            "Epoch [10/25]  |   Train Loss: 0.7870    |   Train Accuracy = 71.96 %   |   Test Loss = 0.9504   |   Test Accuracy = 66.35 %  \n",
            "Epoch [11/25]  |   Train Loss: 0.7475    |   Train Accuracy = 73.25 %   |   Test Loss = 0.9329   |   Test Accuracy = 66.93 %  \n",
            "Epoch [12/25]  |   Train Loss: 0.7157    |   Train Accuracy = 74.45 %   |   Test Loss = 0.8969   |   Test Accuracy = 68.68 %  \n",
            "Epoch [13/25]  |   Train Loss: 0.6795    |   Train Accuracy = 75.85 %   |   Test Loss = 0.9081   |   Test Accuracy = 68.66 %  \n",
            "Epoch [14/25]  |   Train Loss: 0.6428    |   Train Accuracy = 77.10 %   |   Test Loss = 0.8913   |   Test Accuracy = 68.88 %  \n",
            "Epoch [15/25]  |   Train Loss: 0.6126    |   Train Accuracy = 78.24 %   |   Test Loss = 0.8860   |   Test Accuracy = 69.16 %  \n",
            "Epoch [16/25]  |   Train Loss: 0.5867    |   Train Accuracy = 78.71 %   |   Test Loss = 0.9310   |   Test Accuracy = 68.06 %  \n",
            "Epoch [17/25]  |   Train Loss: 0.5569    |   Train Accuracy = 79.98 %   |   Test Loss = 0.8994   |   Test Accuracy = 69.66 %  \n",
            "Epoch [18/25]  |   Train Loss: 0.5323    |   Train Accuracy = 81.05 %   |   Test Loss = 0.9204   |   Test Accuracy = 68.73 %  \n",
            "Epoch [19/25]  |   Train Loss: 0.5039    |   Train Accuracy = 81.99 %   |   Test Loss = 0.9071   |   Test Accuracy = 69.97 %  \n",
            "Epoch [20/25]  |   Train Loss: 0.4816    |   Train Accuracy = 82.59 %   |   Test Loss = 0.9047   |   Test Accuracy = 71.37 %  \n",
            "Epoch [21/25]  |   Train Loss: 0.4652    |   Train Accuracy = 83.19 %   |   Test Loss = 0.8779   |   Test Accuracy = 70.73 %  \n",
            "Epoch [22/25]  |   Train Loss: 0.4365    |   Train Accuracy = 84.39 %   |   Test Loss = 0.9195   |   Test Accuracy = 70.75 %  \n",
            "Epoch [23/25]  |   Train Loss: 0.4160    |   Train Accuracy = 85.20 %   |   Test Loss = 0.8984   |   Test Accuracy = 71.22 %  \n",
            "Epoch [24/25]  |   Train Loss: 0.3963    |   Train Accuracy = 85.58 %   |   Test Loss = 0.9346   |   Test Accuracy = 70.83 %  \n",
            "Epoch [25/25]  |   Train Loss: 0.3801    |   Train Accuracy = 86.47 %   |   Test Loss = 0.9789   |   Test Accuracy = 70.51 %  \n"
          ]
        }
      ]
    },
    {
      "cell_type": "code",
      "source": [
        "torch.save(model.state_dict(), os.path.join(r'/content/drive/MyDrive/Colab Notebooks', 'vit_cifar10.pth'))"
      ],
      "metadata": {
        "id": "sYyI_4Slixki"
      },
      "execution_count": 27,
      "outputs": []
    },
    {
      "cell_type": "code",
      "source": [
        "plt.plot(epoch_train_accuracies, 'r--', label='Train Accuracy')  # red dashed line\n",
        "plt.plot(epoch_test_accuracies, 'b-', label='Test Accuracy')    # blue solid line\n",
        "plt.title(\"Accuracy\")\n",
        "plt.legend()\n",
        "plt.show()"
      ],
      "metadata": {
        "colab": {
          "base_uri": "https://localhost:8080/",
          "height": 452
        },
        "id": "nkJOGyAyHTr9",
        "outputId": "242de61e-73fb-4811-8847-35a76cbebb40"
      },
      "execution_count": 24,
      "outputs": [
        {
          "output_type": "display_data",
          "data": {
            "text/plain": [
              "<Figure size 640x480 with 1 Axes>"
            ],
            "image/png": "[encoded data removed]"
          },
          "metadata": {}
        }
      ]
    },
    {
      "cell_type": "code",
      "source": [
        "plt.plot(epoch_train_losses, 'r--', label='Train Loss')  # red dashed line\n",
        "plt.plot(epoch_test_losses, 'b-', label='Test Loss')    # blue solid line\n",
        "plt.title(\"Loss\")\n",
        "plt.legend()\n",
        "plt.show()"
      ],
      "metadata": {
        "colab": {
          "base_uri": "https://localhost:8080/",
          "height": 452
        },
        "id": "9gfNx5bBfXwJ",
        "outputId": "ce315a87-41e0-423a-adfa-f57a8a09a831"
      },
      "execution_count": 25,
      "outputs": [
        {
          "output_type": "display_data",
          "data": {
            "text/plain": [
              "<Figure size 640x480 with 1 Axes>"
            ],
            "image/png": "[encoded data removed]"
          },
          "metadata": {}
        }
      ]
    },
    {
      "cell_type": "code",
      "source": [
        "max_test_accuracy = max(epoch_test_accuracies).item()\n",
        "\n",
        "print(f'Max Test Accuracy Achieved = {max_test_accuracy:.2f} %')"
      ],
      "metadata": {
        "colab": {
          "base_uri": "https://localhost:8080/"
        },
        "id": "q-P_kSLPfupg",
        "outputId": "5c60d276-646b-49c5-f635-1fdaa5475786"
      },
      "execution_count": 30,
      "outputs": [
        {
          "output_type": "stream",
          "name": "stdout",
          "text": [
            "Max Test Accuracy Achieved = 71.37 %\n"
          ]
        }
      ]
    },
    {
      "cell_type": "code",
      "source": [
        "min_test_loss = min(epoch_test_losses).item()\n",
        "\n",
        "print(f'Min Test Loss Achieved = {min_test_loss:.4f}')"
      ],
      "metadata": {
        "colab": {
          "base_uri": "https://localhost:8080/"
        },
        "id": "ue53Ic0ljX85",
        "outputId": "2d6fbaa9-aeb7-4c51-81da-f7f47e083bbf"
      },
      "execution_count": 32,
      "outputs": [
        {
          "output_type": "stream",
          "name": "stdout",
          "text": [
            "Min Test Loss Achieved = 0.8779\n"
          ]
        }
      ]
    },
    {
      "cell_type": "code",
      "source": [],
      "metadata": {
        "id": "tthaW1OkkYwZ"
      },
      "execution_count": null,
      "outputs": []
    }
  ]
}